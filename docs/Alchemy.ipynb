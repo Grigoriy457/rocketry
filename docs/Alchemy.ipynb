{
 "cells": [
  {
   "cell_type": "markdown",
   "metadata": {},
   "source": [
    "Required Functionality\n",
    "- Basic ETL\n",
    "    - Extractors\n",
    "        - csv, xlsx, SQL, HTML, JSON, pickle etc.\n",
    "        - Extracting as batches\n",
    "    - Transformers\n",
    "        - Filtering, selecting, calculating, dtype formatting, normalizing, cleaning\n",
    "        - \n",
    "    - Loaders\n",
    "        - csv, xlsx, SQL, etc.\n",
    "        - Loading as batches: staging/pre-load\n",
    "        - Multiple loading\n",
    "- Additional Components\n",
    "    - Validators\n",
    "        - Drop batch, terminate pipeline, wait until approval, etc.\n",
    "    - Monitor\n",
    "        - Print, log, draw graph, save snapshot, send email etc.\n",
    "        - Sample, summarize, defined window, graph etc.\n",
    "- Advanced features\n",
    "    - Mergers\n",
    "        - how: left, right, inner, outer, stack\n",
    "        - Join two pipelines (without loader) together\n",
    "- Dynamic composition\n",
    "- Prod & test modes\n",
    "- Scheduling\n",
    "    - \n",
    "- Staging/preload"
   ]
  },
  {
   "cell_type": "code",
   "execution_count": null,
   "metadata": {},
   "outputs": [],
   "source": [
    "import dataflow as etl\n",
    "etl.set_runmode(\"test\")"
   ]
  },
  {
   "cell_type": "code",
   "execution_count": null,
   "metadata": {},
   "outputs": [],
   "source": [
    "pipe = Extractor(..) >> Transformer(..) >> Loader(..)\n",
    "pipe\n",
    ">> Pipeline"
   ]
  },
  {
   "cell_type": "code",
   "execution_count": null,
   "metadata": {},
   "outputs": [],
   "source": [
    "pipe.execute()"
   ]
  },
  {
   "cell_type": "code",
   "execution_count": null,
   "metadata": {},
   "outputs": [],
   "source": [
    "test_pipeline = Extractor(..) >> Transformer(..) >> Loader(..)\n",
    "test_pipeline.mode = \"test\""
   ]
  },
  {
   "cell_type": "code",
   "execution_count": null,
   "metadata": {},
   "outputs": [],
   "source": [
    "pipeline = PipelineCluster()\n",
    "pipeline.test_mode = Extractor(..) >> Transformer(..)\n",
    "pipeline.prod_mode = Extractor(..) >> Transformer(..) >> Loader(..)\n"
   ]
  },
  {
   "cell_type": "code",
   "execution_count": null,
   "metadata": {},
   "outputs": [],
   "source": [
    "left = Extractor(..) >> Transformer(..) >> Loader(..)\n",
    "right = Extractor(..) >> Transformer(..) >> Loader(..)\n",
    "\n",
    "Merger(left, right, how=\"left\")"
   ]
  },
  {
   "cell_type": "code",
   "execution_count": null,
   "metadata": {},
   "outputs": [],
   "source": [
    "pipe = Extractor(..) >> GraphMonitor(file=\"fig.png\", ) >> Transformer(..) >> Loader(..).disable_on_prod()"
   ]
  }
 ],
 "metadata": {
  "kernelspec": {
   "display_name": "Python [default]",
   "language": "python",
   "name": "python3"
  },
  "language_info": {
   "codemirror_mode": {
    "name": "ipython",
    "version": 3
   },
   "file_extension": ".py",
   "mimetype": "text/x-python",
   "name": "python",
   "nbconvert_exporter": "python",
   "pygments_lexer": "ipython3",
   "version": "3.6.6"
  }
 },
 "nbformat": 4,
 "nbformat_minor": 2
}
